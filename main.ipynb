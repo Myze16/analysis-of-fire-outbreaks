{
 "cells": [
  {
   "cell_type": "markdown",
   "metadata": {},
   "source": [
    "## Comandos de configuração do ambiente Jupiter - IDE[VS Code]\n",
    "\n",
    "#### Linux (Ubuntu 24.04)\n",
    "**criando o ambiente virtual:**\n",
    "\n",
    "`python3 -m venv venv`\n",
    "\n",
    "**baixando dependências do projeto:**\n",
    "\n",
    "`pip install -r requirements.txt`"
   ]
  },
  {
   "cell_type": "markdown",
   "metadata": {},
   "source": [
    "# Importando Pacotes"
   ]
  },
  {
   "cell_type": "code",
   "execution_count": null,
   "metadata": {},
   "outputs": [],
   "source": [
    "import pandas as pd\n",
    "import matplotlib.pyplot as plt\n",
    "import numpy as np\n",
    "plt.ion()"
   ]
  },
  {
   "cell_type": "markdown",
   "metadata": {},
   "source": [
    "# Acessando Base de Dados\n",
    "\n",
    "Os dados apresentados foram retirados do site https://terrabrasilis.dpi.inpe.br/ e a base pode ser obtida através do link abaixo:\n",
    "\n",
    "`https://terrabrasilis.dpi.inpe.br/queimadas/bdqueimadas/#exportar-dados`\n",
    "\n",
    "**Sobre a base:**\n",
    "A base contém dados referente aos primeiros 05 dias do mês setembro contendo todos os estados brasileiros. O objetivo é transformar as informações sobre focos de fogo em um dado de valor, priorizando fidelidade e clareza, permitindo assim uma análise criteriosa e tomadas de deciões mais acertivas. (Base possui 60MB aproximadamente)\n",
    "\n",
    "</br>\n",
    "\n",
    "#\n",
    "**DADOS:**\n",
    "- Data e Hora\n",
    "- Satélite que registrou o foco\n",
    "- País (No nosso caso todos os dados são referentes ao Brasil)\n",
    "- Estado\n",
    "- Município\n",
    "- Bioma\n",
    "- Dias sem chuva\n",
    "- Precipitação\n",
    "- Risco de fogo\n",
    "- Latitude\n",
    "- Longitude\n",
    "- FRP (“Fire Radiative Power”, mede a energia radiante liberada por unidade de tempo, associada à taxa de queima da vegetação, em MW - megawatts)"
   ]
  },
  {
   "cell_type": "code",
   "execution_count": 2,
   "metadata": {},
   "outputs": [],
   "source": [
    "df = pd.read_csv('./queimadas_dataset.csv')"
   ]
  },
  {
   "cell_type": "markdown",
   "metadata": {},
   "source": [
    "# Higienizando e Organizando os dados"
   ]
  },
  {
   "cell_type": "code",
   "execution_count": null,
   "metadata": {},
   "outputs": [],
   "source": [
    "# Mudando para datetype\n",
    "df['DataHora'] = pd.to_datetime(df['DataHora'])\n",
    "\n",
    "# Eliminando linhas onde há dados NaN, presentes em alguma das colunas definidas\n",
    "df = df.dropna(subset=['Precipitacao', 'RiscoFogo', 'FRP'])\n",
    "\n",
    "# Ordenando o dataframe por estado e municipio\n",
    "df_ordenado_estado = df.sort_values(by=['Estado', 'Municipio'])\n",
    "print(df_ordenado_estado)"
   ]
  },
  {
   "cell_type": "markdown",
   "metadata": {},
   "source": []
  },
  {
   "cell_type": "code",
   "execution_count": null,
   "metadata": {},
   "outputs": [],
   "source": [
    "# Dados AMAZONAS\n",
    "total_am = len(df[df['Estado'] == 'AMAZONAS'])\n",
    "\n",
    "# Dados SUDESTE\n",
    "total_sudeste = len(df[(df['Estado'] == 'RIO DE JANEIRO') | (df['Estado'] == 'ESPÍRITO SANTO') | (df['Estado'] == 'SÃO PAULO') | (df['Estado'] == 'MINAS GERAIS')])\n",
    "\n",
    "# Montando Torta\n",
    "data_sudeste_am = [total_am, total_sudeste]\n",
    "def to_pie(regiao, estados):\n",
    "    total = int(np.round(regiao/100.*np.sum(estados)))\n",
    "    return f\"{regiao:.1f}%\"\n",
    "\n",
    "plt.pie(\n",
    "    data_sudeste_am, \n",
    "    labels=[f\"AMAZONAS | {total_am}\", f\"SUDESTE | {total_sudeste}\"], \n",
    "    colors=['green', 'blue'], \n",
    "    autopct=lambda estado: to_pie(estado, data_sudeste_am), \n",
    "    startangle=90, \n",
    "    explode=[0, 0.1], \n",
    "    shadow=True, \n",
    "    textprops={\"color\": \"w\"}\n",
    ")\n",
    "plt.title(\"Sudeste | Amazonas\")\n",
    "plt.legend(\n",
    "    loc='upper left', \n",
    "    bbox_to_anchor=(-0.2, -0.1, 0.5, 1)\n",
    ")\n",
    "plt.axis('equal')\n",
    "plt.show()"
   ]
  },
  {
   "cell_type": "markdown",
   "metadata": {},
   "source": [
    "# Organizando os estados de maior precipitação de chuva para o menor"
   ]
  },
  {
   "cell_type": "code",
   "execution_count": 6,
   "metadata": {},
   "outputs": [],
   "source": [
    "# import pandas as pd\n",
    "# import matplotlib.pyplot as plt\n",
    "# import numpy as np\n",
    "# plt.ion()\n",
    "\n",
    "# df = pd.read_csv('./queimadas_dataset.csv')\n",
    "# precipitation_by_municipality = df.groupby('Estado')['Precipitacao'].sum()\n",
    "\n",
    "# precipitation_by_municipality = precipitation_by_municipality.sort_values(ascending=False)\n",
    "\n",
    "# plt.figure(figsize=(10, 6))\n",
    "# plt.scatter(precipitation_by_municipality.index, precipitation_by_municipality.values)\n",
    "\n",
    "# plt.title('Estados com Maior Precipitação')\n",
    "# plt.xlabel('Estados')\n",
    "# plt.ylabel('Precipitação (mm)')\n",
    "# plt.xticks(rotation=90)\n",
    "\n",
    "# plt.tight_layout()\n",
    "# plt.show()"
   ]
  },
  {
   "cell_type": "markdown",
   "metadata": {},
   "source": [
    "# Média de estados com maior precipitação "
   ]
  },
  {
   "cell_type": "code",
   "execution_count": 7,
   "metadata": {},
   "outputs": [],
   "source": [
    "# import pandas as pd\n",
    "# import matplotlib.pyplot as plt\n",
    "# import seaborn as sns\n",
    "\n",
    "# df = pd.read_csv('./queimadas_dataset.csv')\n",
    "\n",
    "# mean_precipitation_by_state = df.groupby('Estado')['Precipitacao'].mean()\n",
    "\n",
    "# plt.figure(figsize=(10, 6))\n",
    "# plt.hist(mean_precipitation_by_state, bins=20, label='Média de Precipitação por Estado', edgecolor='k')\n",
    "\n",
    "# plt.vlines(mean_precipitation_by_state.mean(), 0, plt.ylim()[1], label='Média Geral', colors='r', linestyles='dashed')\n",
    "\n",
    "# plt.xlabel('Média de Precipitação (mm)')\n",
    "# plt.ylabel('Frequência')\n",
    "# plt.title('Distribuição da Média de Precipitação por Estado')\n",
    "# plt.legend()\n",
    "\n",
    "# sns.despine()\n",
    "\n",
    "# plt.tight_layout()\n",
    "# plt.show()"
   ]
  },
  {
   "cell_type": "code",
   "execution_count": 8,
   "metadata": {},
   "outputs": [],
   "source": [
    "# import pandas as pd\n",
    "# import matplotlib.pyplot as plt\n",
    "# import seaborn as sns\n",
    "\n",
    "# df = pd.read_csv('./queimadas_dataset.csv')\n",
    "# mean_precipitation_by_state = df.groupby('Estado')['Precipitacao'].mean()\n",
    "\n",
    "# plt.figure(figsize=(10, 6))\n",
    "# plt.hist(mean_precipitation_by_state, bins=20, label='Média de Precipitação por Estado', edgecolor='k')\n",
    "\n",
    "# plt.vlines(mean_precipitation_by_state.mean(), 0, plt.ylim()[1], label='Média Geral', color='blue')\n",
    "\n",
    "# plt.vlines(mean_precipitation_by_state.median(), 0, plt.ylim()[1], linestyles='--', label='Mediana geral', color='red')\n",
    "\n",
    "# plt.xlabel('Média de Precipitação (mm)')\n",
    "# plt.ylabel('Frequência')\n",
    "# plt.title('Distribuição da Médiana de Precipitação por Estado')\n",
    "\n",
    "# plt.legend()\n",
    "\n",
    "# sns.despine()\n",
    "\n",
    "# plt.tight_layout()\n",
    "# plt.show()"
   ]
  },
  {
   "cell_type": "markdown",
   "metadata": {},
   "source": [
    "# Estados com menos dias de chuva para o com mais dias de chuva"
   ]
  },
  {
   "cell_type": "code",
   "execution_count": 9,
   "metadata": {},
   "outputs": [],
   "source": [
    "# import pandas as pd\n",
    "# import matplotlib.pyplot as plt\n",
    "# import numpy as np\n",
    "# plt.ion()\n",
    "\n",
    "# df = pd.read_csv('./queimadas_dataset.csv')\n",
    "# precipitation_by_municipality = df.groupby('Estado')['DiaSemChuva'].sum()\n",
    "\n",
    "# precipitation_by_municipality = precipitation_by_municipality.sort_values(ascending=False)\n",
    "\n",
    "# plt.figure(figsize=(10, 6))\n",
    "# plt.scatter(precipitation_by_municipality.index, precipitation_by_municipality.values)\n",
    "\n",
    "# plt.title('Estados com mais dias de chuva')\n",
    "# plt.xlabel('Municípios')\n",
    "# plt.ylabel('Precipitação (mm)')\n",
    "# plt.xticks(rotation=90)\n",
    "\n",
    "# plt.tight_layout()\n",
    "# plt.show()"
   ]
  },
  {
   "cell_type": "markdown",
   "metadata": {},
   "source": [
    "# Estados com maior número de focos"
   ]
  },
  {
   "cell_type": "code",
   "execution_count": null,
   "metadata": {},
   "outputs": [],
   "source": [
    "# Organizando um novo dataframe que tem como produto o Estado e o número de focos\n",
    "total_de_focos_estado = df.groupby(['Estado']).size().reset_index(name='FocosIncendio')\n",
    "\n",
    "\n",
    "# Validar número de focos (comparar com o número de linhas retornado na higienização)\n",
    "# np.sum(total_de_focos_estado['FocosIncendio'])\n",
    "\n",
    "# Obtendo apenas estados com mais de 20000 focos registrados\n",
    "total_de_focos_estado = total_de_focos_estado[total_de_focos_estado['FocosIncendio'] >= 20000]\n",
    "\n",
    "# Criando grafico de barras\n",
    "fig, ax = plt.subplots(figsize=(16, 6))\n",
    "ax.bar(total_de_focos_estado['Estado'], total_de_focos_estado['FocosIncendio'], width=0.9)\n",
    "ax.set_ylabel('Focos Registrados')\n",
    "ax.set_title('Estados com mais de 20000 focos registrados')\n",
    "\n",
    "plt.show()"
   ]
  },
  {
   "cell_type": "markdown",
   "metadata": {},
   "source": [
    "# Evolução do número de focos por dia na região Sudeste"
   ]
  },
  {
   "cell_type": "code",
   "execution_count": null,
   "metadata": {},
   "outputs": [],
   "source": [
    "# Organizando um novo dataframe que tem como produto o Estado e o número de focos\n",
    "sudeste = df[(df['Estado'] == 'RIO DE JANEIRO') | (df['Estado'] == 'ESPÍRITO SANTO') | (df['Estado'] == 'SÃO PAULO') | (df['Estado'] == 'MINAS GERAIS')]\n",
    "total_de_focos_sudeste = sudeste.groupby([sudeste['DataHora'].dt.date, 'Estado']).size().reset_index(name='FocosIncendio')\n",
    "total_de_focos_sudeste = total_de_focos_sudeste.sort_values(by=['Estado', 'DataHora'])\n",
    "\n",
    "fig, ax = plt.subplots(figsize=(16, 6))\n",
    "\n",
    "# Iterar sobre os estados e plotar cada linha com configurações personalizadas\n",
    "for estado in total_de_focos_sudeste['Estado'].unique():\n",
    "    dados_estado = total_de_focos_sudeste[total_de_focos_sudeste['Estado'] == estado]\n",
    "    ax.plot(dados_estado['DataHora'], dados_estado['FocosIncendio'], label=estado, marker='o')\n",
    "\n",
    "# Configurar o gráfico\n",
    "ax.set_xlabel('Data e Hora')\n",
    "ax.set_ylabel('Número de Focos de Incêndio')\n",
    "ax.set_title('Evolução de Focos de Incêndio por Estado - Sudeste')\n",
    "ax.legend()\n",
    "\n",
    "plt.show()"
   ]
  },
  {
   "cell_type": "markdown",
   "metadata": {},
   "source": [
    "# Bioma predominante Minas Gerais\n",
    "\n",
    "OBS: A Caatinga está presente apenas na parte norte do estado, divisa com o estado da BAHIA."
   ]
  },
  {
   "cell_type": "code",
   "execution_count": null,
   "metadata": {},
   "outputs": [],
   "source": [
    "# Monatando Data Frame MINAS GERAIS\n",
    "df_mg = df[df['Estado'] == 'MINAS GERAIS'].groupby(['Bioma']).size().reset_index(name='FocosIncendio')\n",
    "df_mg = df_mg.sort_values(by=['Bioma'])\n",
    "df_mg\n",
    "\n",
    "# Montando Torta\n",
    "explode = [0.05] * len(df_mg)\n",
    "plt.pie(\n",
    "    df_mg['FocosIncendio'],\n",
    "    startangle=90, \n",
    "    explode=explode, \n",
    "    shadow=True, \n",
    "    autopct='%1.1f%%'\n",
    ")\n",
    "plt.title(\"Percentual de focos por BIOMA | MG\")\n",
    "plt.legend(\n",
    "    labels=df_mg['Bioma'], \n",
    "    loc='upper left', \n",
    "    bbox_to_anchor=(-0.2, -0.1, 0.5, 1)\n",
    ")\n",
    "plt.axis('equal')  # Garante que o gráfico seja circular\n",
    "plt.tight_layout()\n",
    "plt.show()"
   ]
  },
  {
   "cell_type": "markdown",
   "metadata": {},
   "source": [
    "# Biomas do RJ e ES"
   ]
  },
  {
   "cell_type": "code",
   "execution_count": null,
   "metadata": {},
   "outputs": [],
   "source": [
    "# Monatando Data Frame RIO DE JANEIRO\n",
    "df_rj_es = df[(df['Estado'] == 'RIO DE JANEIRO') | (df['Estado'] == 'ESPÍRITO SANTO')].groupby(['Bioma']).size().reset_index(name='FocosIncendio')\n",
    "df_rj_es = df_rj_es.sort_values(by=['Bioma'])\n",
    "\n",
    "# Montando Torta\n",
    "explode = [0.01] * len(df_rj_es)\n",
    "plt.pie(\n",
    "    df_rj_es['FocosIncendio'],\n",
    "    startangle=90, \n",
    "    explode=explode, \n",
    "    shadow=True, \n",
    "    autopct='%1.1f%%'\n",
    ")\n",
    "plt.title(\"Percentual de focos por BIOMA | RJ ES\")\n",
    "plt.legend(\n",
    "    labels=df_rj_es['Bioma'], \n",
    "    loc='upper left', \n",
    "    bbox_to_anchor=(-0.2, -0.1, 0.5, 1)\n",
    ")\n",
    "plt.axis('equal')  # Garante que o gráfico seja circular\n",
    "plt.tight_layout()\n",
    "plt.show()"
   ]
  },
  {
   "cell_type": "markdown",
   "metadata": {},
   "source": [
    "# Biomas de São Paulo"
   ]
  },
  {
   "cell_type": "code",
   "execution_count": null,
   "metadata": {},
   "outputs": [],
   "source": [
    "# Monatando Data Frame MINAS GERAIS\n",
    "df_sp = df[df['Estado'] == 'SÃO PAULO'].groupby(['Bioma']).size().reset_index(name='FocosIncendio')\n",
    "df_sp = df_sp.sort_values(by=['Bioma'])\n",
    "df_sp\n",
    "\n",
    "# Montando Torta\n",
    "explode = [0.05] * len(df_sp)\n",
    "plt.pie(\n",
    "    df_sp['FocosIncendio'],\n",
    "    startangle=90, \n",
    "    explode=explode, \n",
    "    shadow=True, \n",
    "    autopct='%1.1f%%'\n",
    ")\n",
    "plt.title(\"Percentual de focos por BIOMA | MG\")\n",
    "plt.legend(\n",
    "    labels=df_sp['Bioma'], \n",
    "    loc='upper left', \n",
    "    bbox_to_anchor=(-0.2, -0.1, 0.5, 1)\n",
    ")\n",
    "plt.axis('equal')  # Garante que o gráfico seja circular\n",
    "plt.tight_layout()\n",
    "plt.show()"
   ]
  },
  {
   "cell_type": "markdown",
   "metadata": {},
   "source": [
    "# Precipitação de Chuva por Estado região Sudeste"
   ]
  },
  {
   "cell_type": "code",
   "execution_count": null,
   "metadata": {},
   "outputs": [],
   "source": [
    "# Pegando dados da região sudeste\n",
    "sudeste = ['MINAS GERAIS', 'SÃO PAULO', 'RIO DE JANEIRO', 'ESPÍRITO SANTO']\n",
    "df_sudeste = df[df['Estado'].isin(sudeste)]\n",
    "precip_media_sudeste = df_sudeste.groupby('Estado')['Precipitacao'].mean().reset_index()\n",
    "\n",
    "# Montando gráfico de barras\n",
    "plt.figure(figsize=(8, 6))\n",
    "plt.bar(precip_media_sudeste['Estado'], precip_media_sudeste['Precipitacao'], color='blue')\n",
    "plt.title('Precipitação Média por Estado na Região Sudeste')\n",
    "plt.xlabel('Estado')\n",
    "plt.ylabel('Precipitação Média (mm)')\n",
    "plt.xticks(rotation=45)\n",
    "plt.tight_layout()\n",
    "plt.show()"
   ]
  },
  {
   "cell_type": "markdown",
   "metadata": {},
   "source": [
    "# Relação entre Bioma e Precipitação Média"
   ]
  },
  {
   "cell_type": "code",
   "execution_count": null,
   "metadata": {},
   "outputs": [],
   "source": [
    "# Pegando dados da região sudeste\n",
    "sudeste = ['MINAS GERAIS', 'SÃO PAULO', 'RIO DE JANEIRO', 'ESPÍRITO SANTO']\n",
    "df_sudeste = df[df['Estado'].isin(sudeste)]\n",
    "precip_media_bioma = df_sudeste.groupby('Bioma')['Precipitacao'].mean().reset_index()\n",
    "\n",
    "# Montando gráfico de barras para a precipitação média por bioma\n",
    "plt.figure(figsize=(8, 6))\n",
    "plt.bar(precip_media_bioma['Bioma'], precip_media_bioma['Precipitacao'], color=['green', 'brown'])\n",
    "plt.title('Precipitação Média por Bioma na Região Sudeste')\n",
    "plt.xlabel('Bioma')\n",
    "plt.ylabel('Precipitação Média (mm)')\n",
    "plt.xticks(rotation=45)\n",
    "plt.tight_layout()\n",
    "plt.show()\n",
    "\n"
   ]
  }
 ],
 "metadata": {
  "kernelspec": {
   "display_name": "venv",
   "language": "python",
   "name": "python3"
  },
  "language_info": {
   "codemirror_mode": {
    "name": "ipython",
    "version": 3
   },
   "file_extension": ".py",
   "mimetype": "text/x-python",
   "name": "python",
   "nbconvert_exporter": "python",
   "pygments_lexer": "ipython3",
   "version": "3.11.9"
  }
 },
 "nbformat": 4,
 "nbformat_minor": 2
}
