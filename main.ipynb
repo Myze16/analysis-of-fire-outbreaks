{
 "cells": [
  {
   "cell_type": "markdown",
   "metadata": {},
   "source": [
    "## Comandos de configuração do ambiente Jupiter - IDE[VS Code]\n",
    "\n",
    "#### Linux (Ubuntu 24.04)\n",
    "**criando o ambiente virtual:**\n",
    "\n",
    "`python3 -m venv venv`\n",
    "\n",
    "**baixando dependências do projeto:**\n",
    "\n",
    "`pip install -r requirements.txt`"
   ]
  },
  {
   "cell_type": "markdown",
   "metadata": {},
   "source": [
    "# Importando Pacotes"
   ]
  },
  {
   "cell_type": "code",
   "execution_count": null,
   "metadata": {},
   "outputs": [],
   "source": [
    "import pandas as pd\n",
    "import matplotlib.pyplot as plt\n",
    "import numpy as np\n",
    "plt.ion()"
   ]
  },
  {
   "cell_type": "markdown",
   "metadata": {},
   "source": [
    "# Acessando Base de Dados\n",
    "\n",
    "Os dados apresentados foram retirados do site https://www.kaggle.com/ e a base pode ser obtida através do link abaixo:\n",
    "\n",
    "`https://www.kaggle.com/datasets/muhammadehsan02/healthcare-prediction-dataset`"
   ]
  },
  {
   "cell_type": "code",
   "execution_count": null,
   "metadata": {},
   "outputs": [],
   "source": [
    "df = pd.read_csv('./healthcare_prediction_dataset.csv')"
   ]
  },
  {
   "cell_type": "code",
   "execution_count": null,
   "metadata": {},
   "outputs": [],
   "source": []
  }
 ],
 "metadata": {
  "kernelspec": {
   "display_name": "venv",
   "language": "python",
   "name": "python3"
  },
  "language_info": {
   "name": "python",
   "version": "3.11.9"
  }
 },
 "nbformat": 4,
 "nbformat_minor": 2
}
