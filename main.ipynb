{
 "cells": [
  {
   "cell_type": "markdown",
   "metadata": {},
   "source": [
    "## Comandos de configuração do ambiente Jupiter - IDE[VS Code]\n",
    "\n",
    "#### Linux (Ubuntu 24.04)\n",
    "**criando o ambiente virtual:**\n",
    "\n",
    "`python3 -m venv venv`\n",
    "\n",
    "**baixando dependências do projeto:**\n",
    "\n",
    "`pip install -r requirements.txt`"
   ]
  },
  {
   "cell_type": "markdown",
   "metadata": {},
   "source": [
    "# Importando Pacotes"
   ]
  },
  {
   "cell_type": "code",
   "execution_count": null,
   "metadata": {},
   "outputs": [],
   "source": [
    "import pandas as pd\n",
    "import matplotlib.pyplot as plt\n",
    "import numpy as np\n",
    "plt.ion()"
   ]
  },
  {
   "cell_type": "markdown",
   "metadata": {},
   "source": [
    "# Acessando Base de Dados\n",
    "\n",
    "Os dados apresentados foram retirados do site https://terrabrasilis.dpi.inpe.br/ e a base pode ser obtida através do link abaixo:\n",
    "\n",
    "`https://terrabrasilis.dpi.inpe.br/queimadas/bdqueimadas/#exportar-dados`\n",
    "\n",
    "**Sobre a base:**\n",
    "A base contém dados referente aos primeiros 05 dias do mês setembro contendo todos os estados brasileiros. O objetivo é transformar as informações sobre focos de fogo em um dado de valor, priorizando fidelidade e clareza, permitindo assim uma análise criteriosa e tomadas de deciões mais acertivas. (Base possui 60MB aproximadamente)\n",
    "\n",
    "</br>\n",
    "\n",
    "#\n",
    "**DADOS:**\n",
    "- Data e Hora\n",
    "- Satélite que registrou o foco\n",
    "- País (No nosso caso todos os dados são referentes ao Brasil)\n",
    "- Estado\n",
    "- Município\n",
    "- Bioma\n",
    "- Dias sem chuva\n",
    "- Precipitação\n",
    "- Risco de fogo\n",
    "- Latitude\n",
    "- Longitude\n",
    "- FRP (“Fire Radiative Power”, mede a energia radiante liberada por unidade de tempo, associada à taxa de queima da vegetação, em MW - megawatts)"
   ]
  },
  {
   "cell_type": "code",
   "execution_count": 84,
   "metadata": {},
   "outputs": [],
   "source": [
    "df = pd.read_csv('./queimadas_dataset.csv')"
   ]
  },
  {
   "cell_type": "markdown",
   "metadata": {},
   "source": [
    "# Higienizando e Organizando os dados"
   ]
  },
  {
   "cell_type": "code",
   "execution_count": null,
   "metadata": {},
   "outputs": [],
   "source": [
    "# Mudando para datetype\n",
    "df['DataHora'] = pd.to_datetime(df['DataHora'])\n",
    "\n",
    "# Eliminando linhas onde há dados NaN, presentes em alguma das colunas definidas\n",
    "df = df.dropna(subset=['Precipitacao', 'RiscoFogo', 'FRP'])\n",
    "\n",
    "# Ordenando o dataframe por estado e municipio\n",
    "df_ordenado_estado = df.sort_values(by=['Estado', 'Municipio'])\n",
    "print(df_ordenado_estado)"
   ]
  },
  {
   "cell_type": "markdown",
   "metadata": {},
   "source": []
  },
  {
   "cell_type": "code",
   "execution_count": null,
   "metadata": {},
   "outputs": [],
   "source": [
    "# Dados AMAZONAS\n",
    "total_am = len(df[df['Estado'] == 'AMAZONAS'])\n",
    "\n",
    "# Dados SUDESTE\n",
    "total_sudeste = len(df[(df['Estado'] == 'RIO DE JANEIRO') | (df['Estado'] == 'ESPÍRITO SANTO') | (df['Estado'] == 'SÃO PAULO') | (df['Estado'] == 'MINAS GERAIS')])\n",
    "\n",
    "# Montando Torta\n",
    "data_sudeste_am = [total_am, total_sudeste]\n",
    "def to_pie(regiao, estados):\n",
    "    total = int(np.round(regiao/100.*np.sum(estados)))\n",
    "    return f\"{regiao:.1f}%\"\n",
    "\n",
    "plt.pie(\n",
    "    data_sudeste_am, \n",
    "    labels=[f\"AMAZONAS | {total_am}\", f\"SUDESTE | {total_sudeste}\"], \n",
    "    colors=['green', 'blue'], \n",
    "    autopct=lambda estado: to_pie(estado, data_sudeste_am), \n",
    "    startangle=90, \n",
    "    explode=[0, 0.1], \n",
    "    shadow=True, \n",
    "    textprops={\"color\": \"w\"}\n",
    ")\n",
    "plt.title(\"Sudeste | Amazonas\")\n",
    "plt.legend(\n",
    "    loc='upper left', \n",
    "    bbox_to_anchor=(-0.2, -0.1, 0.5, 1)\n",
    ")\n",
    "plt.axis('equal')\n",
    "plt.show()"
   ]
  },
  {
   "cell_type": "code",
   "execution_count": 87,
   "metadata": {},
   "outputs": [],
   "source": [
    "# total = len(df)\n",
    "# male_ages = df[df['Gender'] == 'Male'][\"Age\"]\n",
    "# female_ages = df[df['Gender'] == 'Female'][\"Age\"]\n",
    "\n",
    "# plt.figure(figsize=(8, 6))\n",
    "\n",
    "# # Criar histograma para homens e mulheres\n",
    "# plt.hist(male_ages, bins=np.arange(male_ages.min(), male_ages.max(), 3), alpha=1, label='Male', color='blue')\n",
    "# plt.hist(female_ages, bins=np.arange(female_ages.min(), female_ages.max(), 3), alpha=1, label='Female', color='pink')\n",
    "\n",
    "# # Adicionando título e legendas\n",
    "# plt.title('Distribuição de Idades por Gênero')\n",
    "# plt.xlabel('Idade')\n",
    "# plt.ylabel('Frequência')\n",
    "# plt.legend()\n",
    "\n",
    "# # Mostrando o gráfico\n",
    "# plt.show()\n",
    "\n",
    "# Total de focos somando os dois estados\n",
    "# total = len(df[(df['Estado'] == 'AMAZONAS') | (df['Estado'] == 'RIO DE JANEIRO')])\n",
    "\n",
    "# Dados AMAZONAS\n",
    "# total_am = len(df[df['Estado'] == 'AMAZONAS'])\n",
    "#percent_am = (len(df[df['Estado'] == 'AMAZONAS']) * 100) / total\n",
    "\n",
    "# Dados RIO DE JANEIRO\n",
    "# total_sudeste = len(df[(df['Estado'] == 'RIO DE JANEIRO') | (df['Estado'] == 'ESPÍRITO SANTO') | (df['Estado'] == 'SÃO PAULO') | (df['Estado'] == 'MINAS GERAIS')])\n",
    "#percent_rj = (len(df[df['Estado'] == 'RIO DE JANEIRO']) * 100) / total\n",
    "\n",
    "# Montando Histograma\n",
    "# plt.hist(male_ages, bins=np.arange(male_ages.min(), male_ages.max(), 3), alpha=1, label='Male', color='blue')\n",
    "# plt.hist(female_ages, bins=np.arange(female_ages.min(), female_ages.max(), 3), alpha=1, label='Female', color='pink')\n",
    "# data_sudeste_am = [total_am, total_sudeste]\n",
    "# def to_pie(estado, estados):\n",
    "#     total = int(np.round(estado/100.*np.sum(estados)))\n",
    "    # return f\"{estado:.1f}%\"\n",
    "#     #return f\"{estado:.1f}%\\n{total:d}\"\n",
    "\n",
    "# explode = [0, 0.4]\n",
    "# plt.pie(\n",
    "#     data_sudeste_am, \n",
    "#     labels=[f\"AMAZONAS | {total_am}\", f\"RIO DE JANEIRO | {total_sudeste}\"], \n",
    "#     colors=['green', 'blue'], \n",
    "#     autopct=lambda estado: to_pie(estado, data_sudeste_am), \n",
    "#     startangle=190, \n",
    "#     explode=explode, \n",
    "#     shadow=True, \n",
    "#     textprops={\"color\": \"w\"}\n",
    "# )\n",
    "# plt.title(\"Rio de Janeiro | Amazonas\")\n",
    "# plt.legend(\n",
    "#     loc='upper left', \n",
    "#     bbox_to_anchor=(-0.2, -0.1, 0.5, 1)\n",
    "# )\n",
    "# plt.axis('equal')\n",
    "# plt.show()"
   ]
  },
  {
   "cell_type": "markdown",
   "metadata": {},
   "source": [
    "# Organizando os estados de maior precipitação de chuva para o menor"
   ]
  },
  {
   "cell_type": "code",
   "execution_count": 88,
   "metadata": {},
   "outputs": [],
   "source": [
    "# import pandas as pd\n",
    "# import matplotlib.pyplot as plt\n",
    "# import numpy as np\n",
    "# plt.ion()\n",
    "\n",
    "# df = pd.read_csv('./queimadas_dataset.csv')\n",
    "# precipitation_by_municipality = df.groupby('Estado')['Precipitacao'].sum()\n",
    "\n",
    "# precipitation_by_municipality = precipitation_by_municipality.sort_values(ascending=False)\n",
    "\n",
    "# plt.figure(figsize=(10, 6))\n",
    "# plt.scatter(precipitation_by_municipality.index, precipitation_by_municipality.values)\n",
    "\n",
    "# plt.title('Estados com Maior Precipitação')\n",
    "# plt.xlabel('Estados')\n",
    "# plt.ylabel('Precipitação (mm)')\n",
    "# plt.xticks(rotation=90)\n",
    "\n",
    "# plt.tight_layout()\n",
    "# plt.show()"
   ]
  },
  {
   "cell_type": "markdown",
   "metadata": {},
   "source": [
    "# Média de estados com maior precipitação "
   ]
  },
  {
   "cell_type": "code",
   "execution_count": 89,
   "metadata": {},
   "outputs": [],
   "source": [
    "# import pandas as pd\n",
    "# import matplotlib.pyplot as plt\n",
    "# import seaborn as sns\n",
    "\n",
    "# df = pd.read_csv('./queimadas_dataset.csv')\n",
    "\n",
    "# mean_precipitation_by_state = df.groupby('Estado')['Precipitacao'].mean()\n",
    "\n",
    "# plt.figure(figsize=(10, 6))\n",
    "# plt.hist(mean_precipitation_by_state, bins=20, label='Média de Precipitação por Estado', edgecolor='k')\n",
    "\n",
    "# plt.vlines(mean_precipitation_by_state.mean(), 0, plt.ylim()[1], label='Média Geral', colors='r', linestyles='dashed')\n",
    "\n",
    "# plt.xlabel('Média de Precipitação (mm)')\n",
    "# plt.ylabel('Frequência')\n",
    "# plt.title('Distribuição da Média de Precipitação por Estado')\n",
    "# plt.legend()\n",
    "\n",
    "# sns.despine()\n",
    "\n",
    "# plt.tight_layout()\n",
    "# plt.show()"
   ]
  },
  {
   "cell_type": "code",
   "execution_count": 90,
   "metadata": {},
   "outputs": [],
   "source": [
    "# import pandas as pd\n",
    "# import matplotlib.pyplot as plt\n",
    "# import seaborn as sns\n",
    "\n",
    "# df = pd.read_csv('./queimadas_dataset.csv')\n",
    "# mean_precipitation_by_state = df.groupby('Estado')['Precipitacao'].mean()\n",
    "\n",
    "# plt.figure(figsize=(10, 6))\n",
    "# plt.hist(mean_precipitation_by_state, bins=20, label='Média de Precipitação por Estado', edgecolor='k')\n",
    "\n",
    "# plt.vlines(mean_precipitation_by_state.mean(), 0, plt.ylim()[1], label='Média Geral', color='blue')\n",
    "\n",
    "# plt.vlines(mean_precipitation_by_state.median(), 0, plt.ylim()[1], linestyles='--', label='Mediana geral', color='red')\n",
    "\n",
    "# plt.xlabel('Média de Precipitação (mm)')\n",
    "# plt.ylabel('Frequência')\n",
    "# plt.title('Distribuição da Médiana de Precipitação por Estado')\n",
    "\n",
    "# plt.legend()\n",
    "\n",
    "# sns.despine()\n",
    "\n",
    "# plt.tight_layout()\n",
    "# plt.show()"
   ]
  },
  {
   "cell_type": "markdown",
   "metadata": {},
   "source": [
    "# Estados com menos dias de chuva para o com mais dias de chuva"
   ]
  },
  {
   "cell_type": "code",
   "execution_count": 91,
   "metadata": {},
   "outputs": [],
   "source": [
    "# import pandas as pd\n",
    "# import matplotlib.pyplot as plt\n",
    "# import numpy as np\n",
    "# plt.ion()\n",
    "\n",
    "# df = pd.read_csv('./queimadas_dataset.csv')\n",
    "# precipitation_by_municipality = df.groupby('Estado')['DiaSemChuva'].sum()\n",
    "\n",
    "# precipitation_by_municipality = precipitation_by_municipality.sort_values(ascending=False)\n",
    "\n",
    "# plt.figure(figsize=(10, 6))\n",
    "# plt.scatter(precipitation_by_municipality.index, precipitation_by_municipality.values)\n",
    "\n",
    "# plt.title('Estados com mais dias de chuva')\n",
    "# plt.xlabel('Municípios')\n",
    "# plt.ylabel('Precipitação (mm)')\n",
    "# plt.xticks(rotation=90)\n",
    "\n",
    "# plt.tight_layout()\n",
    "# plt.show()"
   ]
  },
  {
   "cell_type": "code",
   "execution_count": 92,
   "metadata": {},
   "outputs": [],
   "source": [
    "# max_age = df[\"Age\"].max()\n",
    "# min_age = df[\"Age\"].min()\n",
    "# print(max_age, min_age)\n",
    "# fig, ax = plt.subplots()\n",
    "# bins = np.arange(min_age, max_age, 1)\n",
    "# print(bins)\n",
    "# ax.plot(bins, female_ages, label=\"Female\")\n",
    "# ax.plot(bins, male_ages, label=\"Male\")\n",
    "\n",
    "# Separando as idades por gênero\n",
    "# male_ages = df[df['Gender'] == 'Male']['Age'].sort_values()\n",
    "# female_ages = df[df['Gender'] == 'Female']['Age'].sort_values()\n",
    "# print(male_ages)\n",
    "\n",
    "# Criando um array para o eixo x (índices das idades)\n",
    "# x_male = np.arange(1, len(male_ages) + 1)\n",
    "# x_female = np.arange(1, len(female_ages) + 1)\n",
    "\n",
    "# df_male = df[(df['Gender'] == 'Male') & (df['Age'] > 70) | (df['Age'] < 40)]\n",
    "# df_female = df[df['Gender'] == 'Female']\n",
    "# age_count_male = df_male['Age'].value_counts().sort_index()\n",
    "# age_count_female = df_male['Age'].value_counts().sort_index()\n",
    "\n",
    "# # Criando o gráfico de linha\n",
    "# plt.figure(figsize=(8, 6))\n",
    "\n",
    "# # Plotando as linhas para homens e mulheres\n",
    "# plt.plot(age_count_male.index, age_count_male.values, label='Male',linestyle='-', color='blue')\n",
    "# plt.plot(age_count_female.index, age_count_female.values, label='Female',  linestyle='-',color='pink')\n",
    "\n",
    "# # Adicionando título e legendas\n",
    "# plt.title('Idade por Gênero')\n",
    "# plt.xlabel('Índice')\n",
    "# plt.ylabel('Idade')\n",
    "# plt.legend()\n"
   ]
  },
  {
   "cell_type": "markdown",
   "metadata": {},
   "source": [
    "# Estados com maior número de focos"
   ]
  },
  {
   "cell_type": "code",
   "execution_count": null,
   "metadata": {},
   "outputs": [],
   "source": [
    "# Organizando um novo dataframe que tem como produto o Estado e o número de focos\n",
    "total_de_focos_estado = df.groupby(['Estado']).size().reset_index(name='FocosIncendio')\n",
    "\n",
    "\n",
    "# Validar número de focos (comparar com o número de linhas retornado na higienização)\n",
    "# np.sum(total_de_focos_estado['FocosIncendio'])\n",
    "\n",
    "# Obtendo apenas estados com mais de 20000 focos registrados\n",
    "total_de_focos_estado = total_de_focos_estado[total_de_focos_estado['FocosIncendio'] >= 20000]\n",
    "\n",
    "# Criando grafico de barras\n",
    "fig, ax = plt.subplots(figsize=(16, 6))\n",
    "ax.bar(total_de_focos_estado['Estado'], total_de_focos_estado['FocosIncendio'], width=0.9)\n",
    "ax.set_ylabel('Focos Registrados')\n",
    "ax.set_title('Estados com mais de 20000 focos registrados')\n",
    "\n",
    "plt.show()"
   ]
  },
  {
   "cell_type": "markdown",
   "metadata": {},
   "source": [
    "# Evolução do número de focos por dia na região Sudeste"
   ]
  },
  {
   "cell_type": "code",
   "execution_count": null,
   "metadata": {},
   "outputs": [],
   "source": [
    "# Organizando um novo dataframe que tem como produto o Estado e o número de focos\n",
    "sudeste = df[(df['Estado'] == 'RIO DE JANEIRO') | (df['Estado'] == 'ESPÍRITO SANTO') | (df['Estado'] == 'SÃO PAULO') | (df['Estado'] == 'MINAS GERAIS')]\n",
    "sudeste\n",
    "total_de_focos_sudeste = sudeste.groupby([sudeste['DataHora'].dt.date, 'Estado']).size().reset_index(name='FocosIncendio')\n",
    "total_de_focos_sudeste = total_de_focos_sudeste.sort_values(by=['Estado', 'DataHora'])\n",
    "\n",
    "fig, ax = plt.subplots(figsize=(16, 6))\n",
    "\n",
    "# Iterar sobre os estados e plotar cada linha com configurações personalizadas\n",
    "for estado in total_de_focos_sudeste['Estado'].unique():\n",
    "    dados_estado = total_de_focos_sudeste[total_de_focos_sudeste['Estado'] == estado]\n",
    "    ax.plot(dados_estado['DataHora'], dados_estado['FocosIncendio'], label=estado, marker='o')\n",
    "\n",
    "# Configurar o gráfico\n",
    "ax.set_xlabel('Data e Hora')\n",
    "ax.set_ylabel('Número de Focos de Incêndio')\n",
    "ax.set_title('Evolução de Focos de Incêndio por Estado - Sudeste')\n",
    "ax.legend()\n",
    "\n",
    "plt.show()"
   ]
  }
 ],
 "metadata": {
  "kernelspec": {
   "display_name": "venv",
   "language": "python",
   "name": "python3"
  },
  "language_info": {
   "codemirror_mode": {
    "name": "ipython",
    "version": 3
   },
   "file_extension": ".py",
   "mimetype": "text/x-python",
   "name": "python",
   "nbconvert_exporter": "python",
   "pygments_lexer": "ipython3",
   "version": "3.10.12"
  }
 },
 "nbformat": 4,
 "nbformat_minor": 2
}
