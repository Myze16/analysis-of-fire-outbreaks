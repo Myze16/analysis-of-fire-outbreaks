{
 "cells": [
  {
   "cell_type": "markdown",
   "metadata": {},
   "source": [
    "# P1 Ciência de Dados\n",
    "\n",
    "Existem várias formas de solucionar cada pergunta, caso o que retorne esteja correto, já conta.\n",
    "\n",
    "As respostas em markdown não precisam ser extensas."
   ]
  },
  {
   "cell_type": "code",
   "execution_count": 1,
   "metadata": {},
   "outputs": [],
   "source": [
    "# Importe o pandas\n",
    "import pandas as pd\n",
    "import numpy as np\n"
   ]
  },
  {
   "cell_type": "code",
   "execution_count": 2,
   "metadata": {},
   "outputs": [],
   "source": [
    "# Crie uma Série com três cores diferentes\n",
    "serie_cores = pd.Series(\n",
    "    ['White', 'Green', 'Red']\n",
    ")\n"
   ]
  },
  {
   "cell_type": "code",
   "execution_count": null,
   "metadata": {},
   "outputs": [],
   "source": [
    "# Visualize a Série de cores diferentes\n",
    "print(serie_cores)"
   ]
  },
  {
   "cell_type": "code",
   "execution_count": 4,
   "metadata": {},
   "outputs": [],
   "source": [
    "# Crie uma Série com três tipos de carro diferentes e visualize\n",
    "serie_carros = pd.Series(\n",
    "    ['Corolla', 'Hillux', 'Camry']\n",
    ")"
   ]
  },
  {
   "cell_type": "code",
   "execution_count": null,
   "metadata": {},
   "outputs": [],
   "source": [
    "# Combine as Séries de cores e carros em uma Dataframe chamada \"car-data\"\n",
    "car_data = pd.DataFrame({'carros':serie_carros, 'cores':serie_cores})\n",
    "print(car_data)"
   ]
  },
  {
   "cell_type": "code",
   "execution_count": 6,
   "metadata": {},
   "outputs": [],
   "source": [
    "# Importe \"../data/car-sales.csv\" e converta ela para um DataFrame\n",
    "\n",
    "df = pd.read_csv('./data/car-sales.csv')\n"
   ]
  },
  {
   "cell_type": "markdown",
   "metadata": {},
   "source": [
    "**PS:** Já que você importou  `../data/car-sales.csv` como uma DataFrame,  a partir de agora ela será referenciada como 'a Dataframe de venda de carros'."
   ]
  },
  {
   "cell_type": "code",
   "execution_count": null,
   "metadata": {},
   "outputs": [],
   "source": [
    "# Exporte a DataFrame que você criou para um arquivo csv.\n",
    "# DataFrame.to_csv()\n",
    "\n",
    "df.to_csv()"
   ]
  },
  {
   "cell_type": "code",
   "execution_count": null,
   "metadata": {},
   "outputs": [],
   "source": [
    "# Encontre os diferentes datatypes da car-data Dataframe.\n",
    "print(df.dtypes)"
   ]
  },
  {
   "cell_type": "code",
   "execution_count": null,
   "metadata": {},
   "outputs": [],
   "source": [
    "# Descreva sua Dataframe de venda de carros usando describe()\n",
    "print(df.describe())"
   ]
  },
  {
   "cell_type": "code",
   "execution_count": null,
   "metadata": {},
   "outputs": [],
   "source": [
    "# Pegue informações da sua Dataframe usando info()\n",
    "print(df.info())\n"
   ]
  },
  {
   "cell_type": "markdown",
   "metadata": {},
   "source": [
    "O que isso te mostra? \n",
    "\n",
    "Responda no arquivo com Markdown.\n",
    "\n",
    "```\n",
    "<class 'pandas.core.frame.DataFrame'>\n",
    "RangeIndex: 10 entries, 0 to 9\n",
    "Data columns (total 5 columns):\n",
    " #   Column         Non-Null Count  Dtype \n",
    "---  ------         --------------  ----- \n",
    " 0   Make           10 non-null     object\n",
    " 1   Colour         10 non-null     object\n",
    " 2   Odometer (KM)  10 non-null     int64 \n",
    " 3   Doors          10 non-null     int64 \n",
    " 4   Price          10 non-null     object\n",
    "dtypes: int64(2), object(3)\n",
    "memory usage: 528.0+ bytes\n",
    "None\n",
    "```"
   ]
  },
  {
   "cell_type": "code",
   "execution_count": null,
   "metadata": {},
   "outputs": [],
   "source": [
    "# Crie uma Série de numeros diferentes e encontre a média deles.\n",
    "numeros = pd.Series(\n",
    "    [27, 31, 42, 56, 43, 29, 33, 37]\n",
    ")\n",
    "\n",
    "media = numeros.mean()\n",
    "print(media)"
   ]
  },
  {
   "cell_type": "code",
   "execution_count": null,
   "metadata": {},
   "outputs": [],
   "source": [
    "# Crie uma Série de numeros diferentes e encontre a soma deles.\n",
    "numeros = pd.Series(\n",
    "    [27, 31, 42, 56, 43, 29, 33, 37]\n",
    ")\n",
    "\n",
    "numeros = np.sum(numeros)\n",
    "print(numeros)"
   ]
  },
  {
   "cell_type": "code",
   "execution_count": null,
   "metadata": {},
   "outputs": [],
   "source": [
    "# Liste todos os nomes de coluna do DataFrame de venda de carros.\n",
    "print(df.columns)"
   ]
  },
  {
   "cell_type": "code",
   "execution_count": null,
   "metadata": {},
   "outputs": [],
   "source": [
    "# Encontre a largura do DataFrame de venda de carros.\n",
    "print(df.shape[1])"
   ]
  },
  {
   "cell_type": "code",
   "execution_count": null,
   "metadata": {},
   "outputs": [],
   "source": [
    "# Mostre as 5 primeiras linhas do DataFrame de venda de carros.\n",
    "print(df.head())"
   ]
  },
  {
   "cell_type": "code",
   "execution_count": null,
   "metadata": {},
   "outputs": [],
   "source": [
    "# Mostre as 7 primeiras linhas do DataFrame de venda de carros.\n",
    "print(df.head(n=7))"
   ]
  },
  {
   "cell_type": "code",
   "execution_count": null,
   "metadata": {},
   "outputs": [],
   "source": [
    "# Mostre as 5 ultimas linhas do DataFrame de venda de carros.\n",
    "print(df.tail())"
   ]
  },
  {
   "cell_type": "code",
   "execution_count": null,
   "metadata": {},
   "outputs": [],
   "source": [
    "# Use .loc para selecionar a linha no index 3 do DataFrame de venda de carros.\n",
    "print(df.loc[3])"
   ]
  },
  {
   "cell_type": "code",
   "execution_count": null,
   "metadata": {},
   "outputs": [],
   "source": [
    "# Use .iloc para selecionar a linha na posição 3 do DataFrame de venda de carros.\n",
    "print(df.iloc[3])"
   ]
  },
  {
   "cell_type": "markdown",
   "metadata": {},
   "source": [
    "Percebe que eles são os mesmos? Por que?\n",
    "\n",
    "Responda no arquivo com Markdown.\n",
    "\n",
    "### R = Mesmo que tenham aplicações distintas, ambos tem como funcionalide realizar a buscar por índices de um dataframe. "
   ]
  },
  {
   "cell_type": "code",
   "execution_count": null,
   "metadata": {},
   "outputs": [],
   "source": [
    "# Selecione a coluna \"Odometer (KM)\" do DataFrame de venda de carros.\n",
    "coluna_odometer = df['Odometer (KM)']\n",
    "print(coluna_odometer)"
   ]
  },
  {
   "cell_type": "code",
   "execution_count": null,
   "metadata": {},
   "outputs": [],
   "source": [
    "# Encontre a média coluna \"Odometer (KM)\" do DataFrame de venda de carros.\n",
    "print(coluna_odometer.mean())"
   ]
  },
  {
   "cell_type": "code",
   "execution_count": null,
   "metadata": {},
   "outputs": [],
   "source": [
    "# Selecione as linhas que tem mais de 100,000 kilometros na coluna \"Odometer (KM)\"\n",
    "linhas_odometer = coluna_odometer.loc[coluna_odometer > 100000]\n",
    "print(linhas_odometer)"
   ]
  },
  {
   "cell_type": "code",
   "execution_count": null,
   "metadata": {},
   "outputs": [],
   "source": [
    "# Encontre a média da seleção feita no passo 22.\n",
    "print(linhas_odometer.mean())\n"
   ]
  },
  {
   "cell_type": "code",
   "execution_count": null,
   "metadata": {},
   "outputs": [],
   "source": [
    "# Agrupe as colunas do DataFrame de venda de carros pela coluna \"Make\" e encontre a média.\n",
    "media_ordenada_make = df.groupby('Make')\n",
    "print(media_ordenada_make.mean(numeric_only=True))"
   ]
  },
  {
   "cell_type": "code",
   "execution_count": null,
   "metadata": {},
   "outputs": [],
   "source": [
    "# Importe Matplotlib e crie um plot() da coluna \"Odometer(KM)\"\n",
    "import matplotlib.pyplot as plt\n",
    "plt.ion()\n",
    "\n",
    "plt.plot(df['Odometer (KM)'])"
   ]
  },
  {
   "cell_type": "code",
   "execution_count": null,
   "metadata": {},
   "outputs": [],
   "source": [
    "# Crie um histograma da coluna \"Odometer(KM)\" usando hist()\n",
    "plt.hist(df['Odometer (KM)'], bins=20)\n",
    "plt.show()\n"
   ]
  },
  {
   "cell_type": "code",
   "execution_count": null,
   "metadata": {},
   "outputs": [],
   "source": [
    "# Tente plotar a coluna \"Price\" usando plot()\n",
    "plt.plot(df['Price'])"
   ]
  },
  {
   "cell_type": "markdown",
   "metadata": {},
   "source": [
    "Por que não funcionou? Você pode pensar em uma solução?\n",
    "\n",
    "Responda no arquivo com Markdown."
   ]
  },
  {
   "cell_type": "code",
   "execution_count": 28,
   "metadata": {},
   "outputs": [],
   "source": [
    "# Remova a pontuação da coluna \"Price\"\n",
    "df['Price'] = df['Price'].str.replace('$', '', regex=False).str.replace(',', '', regex=False)"
   ]
  },
  {
   "cell_type": "code",
   "execution_count": null,
   "metadata": {},
   "outputs": [],
   "source": [
    "# Verifique as mudanças da coluna \"Price\"\n",
    "print(df['Price'])"
   ]
  },
  {
   "cell_type": "code",
   "execution_count": 30,
   "metadata": {},
   "outputs": [],
   "source": [
    "# Remova os dois zeros extras no final da coluna \"Price\"\n",
    "df['Price'] = df['Price'].str.replace(r'^\\$([0-9,]+)\\.\\d{2}$', r'\\1', regex=True).astype(float)"
   ]
  },
  {
   "cell_type": "code",
   "execution_count": null,
   "metadata": {},
   "outputs": [],
   "source": [
    "# Verifique as mudanças da coluna \"Price\"\n",
    "print(df['Price'])"
   ]
  },
  {
   "cell_type": "code",
   "execution_count": 32,
   "metadata": {},
   "outputs": [],
   "source": [
    "# Mude o datatype da coluna \"Price\" para integer usando .astype()\n",
    "df['Price'] = df['Price'].astype(int)"
   ]
  },
  {
   "cell_type": "code",
   "execution_count": null,
   "metadata": {},
   "outputs": [],
   "source": [
    "# Deixe as strings da coluna \"Make\" em caixa baixa.\n",
    "df['Make'].str.lower()"
   ]
  },
  {
   "cell_type": "code",
   "execution_count": null,
   "metadata": {},
   "outputs": [],
   "source": [
    "#Verifique a coluna \"Make\".\n",
    "print(df['Make'])"
   ]
  },
  {
   "cell_type": "markdown",
   "metadata": {},
   "source": [
    "Perceba que ela não ficou em caixa baixa."
   ]
  },
  {
   "cell_type": "code",
   "execution_count": 35,
   "metadata": {},
   "outputs": [],
   "source": [
    "\n",
    "# Faça a coluna \"Make\" ficar em caixa baixa permanentemente.\n",
    "df['Make'] = df['Make'].str.lower()"
   ]
  },
  {
   "cell_type": "code",
   "execution_count": null,
   "metadata": {},
   "outputs": [],
   "source": [
    "# Verifique a Dataframe de venda de carros.\n",
    "print(df)"
   ]
  },
  {
   "cell_type": "markdown",
   "metadata": {},
   "source": [
    "Agora vamos tratar dados faltando"
   ]
  },
  {
   "cell_type": "code",
   "execution_count": null,
   "metadata": {},
   "outputs": [],
   "source": [
    "# Importe a DataFrame de venda de carros com dados faltando (\"../data/car-sales-missing-data.csv\")\n",
    "df_new = pd.read_csv('./data/car-sales-missing-data.csv')\n",
    "\n",
    "# Verfique a nova Dataframe\n",
    "print(df_new)"
   ]
  },
  {
   "cell_type": "code",
   "execution_count": null,
   "metadata": {},
   "outputs": [],
   "source": [
    "# Preencha os valores vazios da coluna \"Odometer\" com o valor médio da coluna, usando a propriedade inplace.\n",
    "media_odometro = df_new['Odometer'].mean()\n",
    "df_new['Odometer'].fillna(media_odometro, inplace=True)"
   ]
  },
  {
   "cell_type": "code",
   "execution_count": null,
   "metadata": {},
   "outputs": [],
   "source": [
    "# Observe o novo Dataframe com as mudanças.\n",
    "print(df_new)"
   ]
  },
  {
   "cell_type": "code",
   "execution_count": 40,
   "metadata": {},
   "outputs": [],
   "source": [
    "# Remova o resto dos dados faltantes utilizando inplace.\n",
    "df_new.dropna(inplace=True)"
   ]
  },
  {
   "cell_type": "code",
   "execution_count": null,
   "metadata": {},
   "outputs": [],
   "source": [
    "#Verifique o novo Dataframe.\n",
    "print(df_new)"
   ]
  }
 ],
 "metadata": {
  "kernelspec": {
   "display_name": "venv",
   "language": "python",
   "name": "python3"
  },
  "language_info": {
   "codemirror_mode": {
    "name": "ipython",
    "version": 3
   },
   "file_extension": ".py",
   "mimetype": "text/x-python",
   "name": "python",
   "nbconvert_exporter": "python",
   "pygments_lexer": "ipython3",
   "version": "3.11.9"
  }
 },
 "nbformat": 4,
 "nbformat_minor": 2
}
